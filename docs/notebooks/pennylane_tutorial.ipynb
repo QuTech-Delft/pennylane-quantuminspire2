{
 "cells": [
  {
   "cell_type": "code",
   "execution_count": 6,
   "metadata": {
    "colab": {
     "base_uri": "https://localhost:8080/"
    },
    "id": "nTR6KaDYI86X",
    "outputId": "e1831fd1-1d37-4536-d28c-fe77dbd23945"
   },
   "outputs": [],
   "source": [
    "%%capture\n",
    "\n",
    "# Comment this out if you don't want to install pennylane from this notebook\n",
    "!pip install pennylane\n",
    "\n",
    "# Comment this out if you don't want to install matplotlib from this notebook\n",
    "!pip install matplotlib"
   ]
  },
  {
   "cell_type": "markdown",
   "metadata": {
    "id": "ViJy_slwI86e"
   },
   "source": [
    "In this tutorial we will:\n",
    "\n",
    "* learn step-by-step how quantum computations are implemented in PennyLane,\n",
    "* understand parameter-dependent quantum computations (\"variational circuits\"), \n",
    "\n",
    "We need the following imports:"
   ]
  },
  {
   "cell_type": "code",
   "execution_count": 7,
   "metadata": {
    "id": "gym_3cbziWfK"
   },
   "outputs": [],
   "source": [
    "import pennylane as qml\n",
    "from pennylane import numpy as np"
   ]
  },
  {
   "cell_type": "markdown",
   "metadata": {
    "id": "j0takToZI86f"
   },
   "source": [
    "## 1. Quantum nodes"
   ]
  },
  {
   "cell_type": "markdown",
   "metadata": {
    "id": "3u-3eEPchh3N"
   },
   "source": [
    "In PennyLane, a *quantum node* is a computational unit that involves the construction, evaluation, pre- and postprocessing of quantum computations.\n",
    "\n",
    "A quantum node consists of a *quantum function* that defines a circuit, as well as a *device* on which it is run. \n",
    "\n",
    "There is a growing [device ecosystem](https://pennylane.ai/plugins.html) which allows you to change only one line of code to dispatch your quantum computation to local simulators, remote simulators and remote hardware from different vendors.\n",
    "\n",
    "Here we will use the built-in `default.qubit` device."
   ]
  },
  {
   "cell_type": "code",
   "execution_count": 8,
   "metadata": {
    "id": "WfIzfl6hI86f"
   },
   "outputs": [],
   "source": [
    "# demo_device = qml.device('default.qubit', wires=2)\n",
    "\n",
    "from pennylane_quantuminspire2.qi_device import QI2Device"
   ]
  },
  {
   "cell_type": "code",
   "execution_count": 9,
   "metadata": {},
   "outputs": [
    {
     "data": {
      "text/plain": [
       "[<qiskit_quantuminspire.qi_backend.QIBackend at 0x142a495e0>,\n",
       " <qiskit_quantuminspire.qi_backend.QIBackend at 0x142bb9250>,\n",
       " <qiskit_quantuminspire.qi_backend.QIBackend at 0x143e97590>,\n",
       " <qiskit_quantuminspire.qi_backend.QIBackend at 0x143e97350>,\n",
       " <qiskit_quantuminspire.qi_backend.QIBackend at 0x143e96a50>,\n",
       " <qiskit_quantuminspire.qi_backend.QIBackend at 0x143ecd5b0>]"
      ]
     },
     "execution_count": 9,
     "metadata": {},
     "output_type": "execute_result"
    }
   ],
   "source": [
    "QI2Device.backends()"
   ]
  },
  {
   "cell_type": "code",
   "execution_count": 11,
   "metadata": {
    "scrolled": true
   },
   "outputs": [
    {
     "name": "stdout",
     "output_type": "stream",
     "text": [
      "Spin\n",
      "Stubbed\n",
      "QX emulator\n",
      "6D2S simulator\n",
      "HectoQubit/2\n",
      "Starmon 7\n"
     ]
    }
   ],
   "source": [
    "for backend in QI2Device.backends():\n",
    "    print(f\"{backend.name}\")"
   ]
  },
  {
   "cell_type": "code",
   "execution_count": 12,
   "metadata": {},
   "outputs": [],
   "source": [
    "backend = QI2Device.get_backend(\"Stubbed\")"
   ]
  },
  {
   "cell_type": "code",
   "execution_count": 13,
   "metadata": {},
   "outputs": [],
   "source": [
    "demo_device = QI2Device(backend=backend)"
   ]
  },
  {
   "cell_type": "markdown",
   "metadata": {},
   "source": [
    "To combine the device with a quantum function to a quantum node we can use the `qml.qnode` decorator. The function can then be evaluated as if it was any other python function. Internally, it will construct a circuit and run it on the device."
   ]
  },
  {
   "cell_type": "code",
   "execution_count": 14,
   "metadata": {},
   "outputs": [],
   "source": [
    "# Define node\n",
    "\n",
    "@qml.qnode(demo_device)\n",
    "def my_quantum_circuit(circuit_params):\n",
    "    qml.RX(circuit_params[0], wires=0)  # Apply an RX gate to qubit 0\n",
    "    qml.RY(circuit_params[1], wires=1)  # Apply an RY gate to qubit 1\n",
    "    qml.CNOT(wires=[0, 1])  # Apply a CNOT gate\n",
    "    return qml.expval(qml.PauliZ(0))  # Measure the expectation value of PauliZ on qubit 0"
   ]
  },
  {
   "cell_type": "code",
   "execution_count": 15,
   "metadata": {},
   "outputs": [],
   "source": [
    "# Execute the circuit\n",
    "\n",
    "params = np.array([0.1, 0.2], requires_grad=True)\n",
    "result = my_quantum_circuit(params)"
   ]
  },
  {
   "cell_type": "code",
   "execution_count": 16,
   "metadata": {},
   "outputs": [
    {
     "data": {
      "text/plain": [
       "0.0"
      ]
     },
     "execution_count": 16,
     "metadata": {},
     "output_type": "execute_result"
    }
   ],
   "source": [
    "result"
   ]
  },
  {
   "cell_type": "code",
   "execution_count": 17,
   "metadata": {},
   "outputs": [
    {
     "name": "stdout",
     "output_type": "stream",
     "text": [
      "Optimized params: [0.1 0.2]\n",
      "Optimized result: 0.0\n"
     ]
    }
   ],
   "source": [
    "# Perform optimization (optional)\n",
    "# For example, use gradient descent to minimize the output\n",
    "\n",
    "opt = qml.GradientDescentOptimizer(stepsize=0.1)\n",
    "for i in range(1):\n",
    "    params = opt.step(my_quantum_circuit, params)\n",
    "result = my_quantum_circuit(params)\n",
    "print(f\"Optimized params: {params}\")\n",
    "print(f\"Optimized result: {result}\")"
   ]
  },
  {
   "cell_type": "markdown",
   "metadata": {},
   "source": [
    "## 2. Building quantum circuits"
   ]
  },
  {
   "cell_type": "markdown",
   "metadata": {
    "id": "B7QxsiAdI86g"
   },
   "source": [
    "### The initial state\n",
    "\n",
    "<br />\n",
    "<img src=\"figures/1.png\" width=\"500\" height=\"100\">\n",
    "<br />\n",
    "\n",
    "The initial state has 100% probability to be measured in the \"0..0\" configuration. Let's see how we can verify this with PennyLane."
   ]
  },
  {
   "cell_type": "code",
   "execution_count": null,
   "metadata": {
    "colab": {
     "base_uri": "https://localhost:8080/"
    },
    "id": "0uWBZqMsI86g",
    "outputId": "21f1e0c5-8dbe-4f81-f492-cf9a27a8958d"
   },
   "outputs": [],
   "source": [
    "@qml.qnode(dev)\n",
    "def circuit():\n",
    "    return qml.probs(wires=[0, 1])\n",
    "\n",
    "circuit()"
   ]
  },
  {
   "cell_type": "markdown",
   "metadata": {
    "id": "4vYHmef8I86h"
   },
   "source": [
    "The internal state vector that we use to mathematically keep track of probabilities is complex-valued. Since `default.qubit` is a simulator we can have a look at the state, for example by checking the device's `state` attribute."
   ]
  },
  {
   "cell_type": "code",
   "execution_count": null,
   "metadata": {
    "colab": {
     "base_uri": "https://localhost:8080/"
    },
    "id": "a3sx1keQI86h",
    "outputId": "0928e9a4-2676-4ef3-ff08-d598171b993e"
   },
   "outputs": [],
   "source": [
    "dev.state"
   ]
  },
  {
   "cell_type": "markdown",
   "metadata": {
    "id": "8T72-1F-I86i"
   },
   "source": [
    "### Unitary evolutions\n",
    "\n",
    "<br />\n",
    "<img src=\"figures/2.png\" width=\"500\">\n",
    "<br />\n",
    "\n",
    "Quantum circuits are represented by unitary matrices. We can evolve the initial state by an arbitrary unitrary matrix as follows:"
   ]
  },
  {
   "cell_type": "code",
   "execution_count": null,
   "metadata": {
    "colab": {
     "base_uri": "https://localhost:8080/"
    },
    "id": "pR2xQvESI86i",
    "outputId": "3e307811-99e4-4632-8069-5baf84ca392a"
   },
   "outputs": [],
   "source": [
    "s = 1/np.sqrt(2)\n",
    "U = np.array([[0., -s, 0.,  s],\n",
    "              [ s, 0., -s, 0.],\n",
    "              [ s, 0.,  s, 0.],\n",
    "              [0., -s, 0., -s]])\n",
    "\n",
    "@qml.qnode(dev)\n",
    "def circuit():\n",
    "    qml.QubitUnitary(U, wires=[0, 1])\n",
    "    return qml.probs(wires=[0, 1])\n",
    "\n",
    "circuit()"
   ]
  },
  {
   "cell_type": "markdown",
   "metadata": {
    "id": "y1Lz95Lvi4nh"
   },
   "source": [
    "The internal quantum state changed."
   ]
  },
  {
   "cell_type": "code",
   "execution_count": null,
   "metadata": {
    "colab": {
     "base_uri": "https://localhost:8080/"
    },
    "id": "WGRCAysbI86i",
    "outputId": "63c1826b-56e3-4b20-c484-73ec0c20b436"
   },
   "outputs": [],
   "source": [
    "dev.state"
   ]
  },
  {
   "cell_type": "markdown",
   "metadata": {
    "id": "j5D8HN8nI86j"
   },
   "source": [
    "### Measurements sample outcomes from the distribution\n",
    "\n",
    "<br />\n",
    "<img src=\"figures/3.png\" width=\"500\">\n",
    "<br />\n",
    "\n",
    "The most common measurement takes samples $-1, 1$ from the \"Pauli-Z\" observable. The samples indicate if the qubit was measured in state $| 0 \\rangle$ or $| 1 \\rangle$."
   ]
  },
  {
   "cell_type": "code",
   "execution_count": null,
   "metadata": {
    "colab": {
     "base_uri": "https://localhost:8080/"
    },
    "id": "BFFaTmh6I86j",
    "outputId": "fdcfafe5-9daa-46bf-ceb7-21359cefca3c"
   },
   "outputs": [],
   "source": [
    "@qml.qnode(dev)\n",
    "def circuit():\n",
    "    qml.QubitUnitary(U, wires=[0, 1])\n",
    "    return qml.sample(qml.PauliZ(wires=0)), qml.sample(qml.PauliZ(wires=1))\n",
    "\n",
    "circuit()"
   ]
  },
  {
   "cell_type": "markdown",
   "metadata": {
    "id": "SKNa1k2eixFC"
   },
   "source": [
    "The quantum state should be still the same as above."
   ]
  },
  {
   "cell_type": "code",
   "execution_count": null,
   "metadata": {
    "colab": {
     "base_uri": "https://localhost:8080/"
    },
    "id": "kOpi8-62I86j",
    "outputId": "24a060bf-7fec-474c-f499-77a2baa5ba61"
   },
   "outputs": [],
   "source": [
    "dev.state"
   ]
  },
  {
   "cell_type": "markdown",
   "metadata": {
    "id": "BPSoH3ddI86k"
   },
   "source": [
    "### Computing expectation values \n",
    "\n",
    "<br />\n",
    "<img src=\"figures/4.png\" width=\"500\">\n",
    "<br />\n",
    "\n",
    "When we want outputs of computations to be deterministic, we often interpret the expected measurement outcome as the result. This value is estimated by taking lots of samples and averaging over them."
   ]
  },
  {
   "cell_type": "code",
   "execution_count": null,
   "metadata": {
    "colab": {
     "base_uri": "https://localhost:8080/"
    },
    "id": "BTKPBpR3I86k",
    "outputId": "b1cd59c1-42b0-406c-87d7-73787a88e7bc"
   },
   "outputs": [],
   "source": [
    "@qml.qnode(dev)\n",
    "def circuit():\n",
    "    qml.QubitUnitary(U, wires=[0, 1])\n",
    "    return qml.expval(qml.PauliZ(wires=0)), qml.expval(qml.PauliZ(wires=1))\n",
    "\n",
    "circuit()"
   ]
  },
  {
   "cell_type": "markdown",
   "metadata": {
    "id": "TWenlG1AjJhu"
   },
   "source": [
    "Again, the quantum state should be the same as above."
   ]
  },
  {
   "cell_type": "code",
   "execution_count": null,
   "metadata": {
    "colab": {
     "base_uri": "https://localhost:8080/"
    },
    "id": "aSJl64R-I86k",
    "outputId": "444f812a-5c66-446e-dd23-bfd8c1e60569"
   },
   "outputs": [],
   "source": [
    "dev.state"
   ]
  },
  {
   "cell_type": "markdown",
   "metadata": {
    "id": "KNiKBEjrI86l"
   },
   "source": [
    "### Quantum circuits are decomposed into gates\n",
    "\n",
    "<br />\n",
    "<img src=\"figures/5.png\" width=\"500\">\n",
    "<br />\n",
    "\n",
    "Quantum circuits rarely consist of one large unitary (which quickly becomes intractably large as the number of qubits grow). Instead, they are composed of *quantum gates*."
   ]
  },
  {
   "cell_type": "code",
   "execution_count": null,
   "metadata": {
    "colab": {
     "base_uri": "https://localhost:8080/"
    },
    "id": "Eoie7lnlI86l",
    "outputId": "755770ab-9bd4-4fd9-a187-9319929953dd"
   },
   "outputs": [],
   "source": [
    "@qml.qnode(dev)\n",
    "def circuit():\n",
    "    qml.PauliX(wires=0)\n",
    "    qml.CNOT(wires=[0,1])\n",
    "    qml.Hadamard(wires=0)\n",
    "    qml.PauliZ(wires=1)\n",
    "    return qml.expval(qml.PauliZ(wires=0)), qml.expval(qml.PauliZ(wires=1))\n",
    "\n",
    "circuit()"
   ]
  },
  {
   "cell_type": "markdown",
   "metadata": {
    "id": "IxU2qPYcI86l"
   },
   "source": [
    "### Some gates depend on \"control\" parameters\n",
    "\n",
    "<br />\n",
    "<img src=\"figures/6.png\" width=\"500\">\n",
    "<br />\n",
    "\n",
    "To train circuits, there is a special subset of gates which is of particular interest: the Pauli rotation gates. These \"rotate\" a special representation of the quantum state around a specific axis. The gates depend on a scalar parameter which is the angle of the rotation. "
   ]
  },
  {
   "cell_type": "code",
   "execution_count": null,
   "metadata": {
    "id": "YwKk_sWmI86m"
   },
   "outputs": [],
   "source": [
    "@qml.qnode(dev)\n",
    "def circuit(w1, w2):\n",
    "    qml.RX(w1, wires=0)\n",
    "    qml.CNOT(wires=[0,1])\n",
    "    qml.RY(w2, wires=1)\n",
    "    return qml.expval(qml.PauliZ(wires=0)), qml.expval(qml.PauliZ(wires=1))\n",
    "\n",
    "circuit(1.2, 1.3)"
   ]
  },
  {
   "cell_type": "markdown",
   "metadata": {
    "id": "Oi_0wM9rI86m"
   },
   "source": [
    "The names `w1`, `w2` are already suggestive that these can be used like the trainable parameters of a classical machine learning model. But we could also call the control parameters `x1`, `x2` and encode data features into quantum states. "
   ]
  },
  {
   "cell_type": "markdown",
   "metadata": {
    "id": "1fKFXs7OI86m"
   },
   "source": [
    "## 3. A full quantum machine learning model and its gradient"
   ]
  },
  {
   "cell_type": "markdown",
   "metadata": {
    "id": "QBEgX2RNI86n"
   },
   "source": [
    "Finally, we can use pre-coded routines or [templates](https://pennylane.readthedocs.io/en/stable/introduction/templates.html) to conveniently build full quantum machine learning model that include a data encoding part, and a trainable part.\n",
    "\n",
    "<br />\n",
    "<img src=\"figures/7.png\" width=\"500\">\n",
    "<br />\n",
    "\n",
    "Here, we will use the `AngleEmbedding` template to load the data, and the `BasicEntanglingLayers` as the trainable part of the circuit."
   ]
  },
  {
   "cell_type": "code",
   "execution_count": null,
   "metadata": {
    "colab": {
     "base_uri": "https://localhost:8080/"
    },
    "id": "qH4f8vYFI86n",
    "outputId": "f3a093cd-eaf1-41fd-ad56-6308ad16d1ad"
   },
   "outputs": [],
   "source": [
    "@qml.qnode(dev)\n",
    "def quantum_model(x, w):\n",
    "    qml.templates.AngleEmbedding(x, wires=[0, 1])\n",
    "    qml.templates.BasicEntanglerLayers(w, wires=[0, 1])\n",
    "    return qml.expval(qml.PauliZ(wires=0))\n",
    "\n",
    "\n",
    "x = np.array([0.1, 0.2], requires_grad=False)\n",
    "w = np.array([[-2.1, 1.2], [-1.4, -3.9], [0.5, 0.2]])\n",
    "\n",
    "quantum_model(x, w)"
   ]
  },
  {
   "cell_type": "markdown",
   "metadata": {
    "id": "I-TOEGNdsUNx"
   },
   "source": [
    "We can draw the circuit."
   ]
  },
  {
   "cell_type": "code",
   "execution_count": null,
   "metadata": {
    "colab": {
     "base_uri": "https://localhost:8080/"
    },
    "id": "Ke03t-8ysP3V",
    "outputId": "ca963433-8af0-48ac-c281-85bdd1463ee2"
   },
   "outputs": [],
   "source": [
    "print(quantum_model.draw())"
   ]
  },
  {
   "cell_type": "markdown",
   "metadata": {
    "id": "BSyTK18DI86n"
   },
   "source": [
    "The best thing is that by using PennyLane, we can easily compute its gradient!"
   ]
  },
  {
   "cell_type": "code",
   "execution_count": null,
   "metadata": {
    "id": "TH2NCZFkI86n"
   },
   "outputs": [],
   "source": [
    "gradient_fn = qml.grad(quantum_model)\n",
    "\n",
    "gradient_fn(x, w)"
   ]
  },
  {
   "cell_type": "markdown",
   "metadata": {
    "id": "aG3rOjcOI86o"
   },
   "source": [
    "This allows us to slot the quantum circuit into the machine learning example from the previous notebook."
   ]
  },
  {
   "cell_type": "markdown",
   "metadata": {
    "id": "EzByfrW4I86o"
   },
   "source": [
    "#  TASKS \n",
    "\n",
    "1. Copy and paste the code from the previous notebook to here and replace the classical model by \n",
    "   the `quantum_model` function. This will allow you to train the model!"
   ]
  },
  {
   "cell_type": "markdown",
   "metadata": {
    "id": "EzByfrW4I86o"
   },
   "source": [
    "2. Add a bias term to the quantum model.\n",
    "\n",
    "A potential solution of 1 & 2 together:"
   ]
  },
  {
   "cell_type": "code",
   "execution_count": null,
   "metadata": {},
   "outputs": [],
   "source": [
    "n_samples = 100\n",
    "X0 = np.array([[np.random.normal(loc=-1, scale=1), \n",
    "                np.random.normal(loc=1, scale=1)] for i in range(n_samples//2)]) \n",
    "X1 = np.array([[np.random.normal(loc=1, scale=1), \n",
    "                np.random.normal(loc=-1, scale=1)] for i in range(n_samples//2)]) \n",
    "\n",
    "X = np.concatenate([X0, X1], axis=0)\n",
    "Y = np.concatenate([-np.ones(50), np.ones(50)], axis=0)\n",
    "data = list(zip(X, Y))\n",
    "\n",
    "def model_with_bias(x, w, b):\n",
    "    return quantum_model(x, w) + b\n",
    "\n",
    "def loss(a, b):\n",
    "    return (a - b)**2\n",
    "\n",
    "def average_loss(w, b, data):\n",
    "    c = 0\n",
    "    for x, y in data:\n",
    "        prediction = model_with_bias(x, w, b)\n",
    "        c += loss(prediction, y)\n",
    "    return c/len(data)\n",
    "\n",
    "gradient_fn_w = qml.grad(average_loss, argnum=0)\n",
    "gradient_fn_b = qml.grad(average_loss, argnum=1)\n",
    "\n",
    "w_init = np.random.random(size=(3, 2))\n",
    "w = np.array(w_init)\n",
    "b = np.array(0.0) # start with zero bias\n",
    "\n",
    "for i in range(15):\n",
    "    w_new = w - 0.05*gradient_fn_w(w, b, data)\n",
    "    b_new = b - 0.05*gradient_fn_b(w, b, data)\n",
    "    print(average_loss(w_new, b_new, data))\n",
    "    w = w_new\n",
    "    b = b_new"
   ]
  },
  {
   "cell_type": "markdown",
   "metadata": {
    "id": "EzByfrW4I86o"
   },
   "source": [
    "3. Replace the hand-coded optimisation step by a native [PennyLane optimiser](https://pennylane.readthedocs.io/en/stable/introduction/optimizers.html)."
   ]
  },
  {
   "cell_type": "code",
   "execution_count": null,
   "metadata": {},
   "outputs": [],
   "source": [
    "opt = qml.GradientDescentOptimizer(0.05)\n",
    "for i in range(15):\n",
    "    \n",
    "    ([w, b], cst) = opt.step_and_cost(lambda w_, b_: average_loss(w_, b_, data), w, b)\n",
    "    print(cst)"
   ]
  },
  {
   "cell_type": "markdown",
   "metadata": {
    "id": "EzByfrW4I86o"
   },
   "source": [
    "4. Rewrite the entire example in PyTorch. \n",
    "\n",
    "   Tipp: You must set the qnode to the correct interface via `@qml.qnode(dev, interface='tf')`."
   ]
  },
  {
   "cell_type": "code",
   "execution_count": null,
   "metadata": {
    "id": "3tXR6ygNI86o"
   },
   "outputs": [],
   "source": [
    "import torch\n",
    "\n",
    "data = [[torch.tensor(x), torch.tensor(y)] for x, y in data]\n",
    "\n",
    "\n",
    "@qml.qnode(dev, interface='torch')\n",
    "def quantum_model(x, w):\n",
    "    qml.templates.AngleEmbedding(x, wires=[0, 1])\n",
    "    qml.templates.BasicEntanglerLayers(w, wires=[0, 1])\n",
    "    return qml.expval(qml.PauliZ(wires=0))\n",
    "\n",
    "def average_loss(w, data):\n",
    "    c = 0\n",
    "    for x, y in data:\n",
    "        prediction = quantum_model(x, w)\n",
    "        c += loss(prediction, y)\n",
    "    return c/len(data)\n",
    "\n",
    "w_init = np.random.random(size=(3, 2))\n",
    "\n",
    "w = torch.tensor(w_init, requires_grad=True)\n",
    "\n",
    "opt = torch.optim.Adam([w], lr = 0.1)\n",
    "\n",
    "# One way of optimising is to use closures\n",
    "def closure():\n",
    "    opt.zero_grad()\n",
    "    loss = average_loss(w, data)\n",
    "    loss.backward()\n",
    "    return loss\n",
    "\n",
    "for i in range(15):\n",
    "    opt.step(closure)\n",
    "    \n",
    "    print(average_loss(w, data))\n",
    "    "
   ]
  }
 ],
 "metadata": {
  "colab": {
   "collapsed_sections": [],
   "name": "2-differentiable-quantum-computing.ipynb",
   "provenance": []
  },
  "kernelspec": {
   "display_name": "Python 3 (ipykernel)",
   "language": "python",
   "name": "python3"
  },
  "language_info": {
   "codemirror_mode": {
    "name": "ipython",
    "version": 3
   },
   "file_extension": ".py",
   "mimetype": "text/x-python",
   "name": "python",
   "nbconvert_exporter": "python",
   "pygments_lexer": "ipython3",
   "version": "3.12.4"
  }
 },
 "nbformat": 4,
 "nbformat_minor": 4
}
