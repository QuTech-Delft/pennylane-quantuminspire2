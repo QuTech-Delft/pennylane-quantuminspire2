{
 "cells": [
  {
   "cell_type": "markdown",
   "id": "48c6731f-5188-41c1-afc4-123c6ed796ae",
   "metadata": {},
   "source": [
    "# Basic circuit execution\n",
    "This notebooks illustrates how you can run your qiskit code on the Quantum Inspire 2 platform.\n",
    "\n",
    "## This notebook makes the following assumptions:\n",
    "- quantuminspire2 sdk installed\n",
    "- account exists in the QI2 platform\n",
    "- Pennylane plugin installed in the same environment as this notebook"
   ]
  },
  {
   "cell_type": "code",
   "execution_count": null,
   "id": "84ac851519c41400",
   "metadata": {},
   "outputs": [],
   "source": [
    "# Be sure to have logged in to the QI2 platform via the SDK. If you have installed it in the same environment as\n",
    "# this notebook, you may run this cell.\n",
    "\n",
    "!qi login"
   ]
  },
  {
   "cell_type": "markdown",
   "id": "0d8ba9f9-9b38-4a86-9252-0b9b9fcdc83f",
   "metadata": {},
   "source": [
    "## The necessary imports"
   ]
  },
  {
   "cell_type": "code",
   "execution_count": null,
   "id": "56125355f94b587a",
   "metadata": {},
   "outputs": [],
   "source": [
    "import pennylane as qml\n",
    "from qiskit_quantuminspire.qi_provider import QIProvider\n",
    "\n",
    "from pennylane_quantuminspire2.qi_device import QI2Device"
   ]
  },
  {
   "cell_type": "markdown",
   "id": "0b464f03-9573-4c3c-852c-3ea4477b59ec",
   "metadata": {},
   "source": [
    "## What QI Backends are available?"
   ]
  },
  {
   "cell_type": "code",
   "execution_count": null,
   "id": "497905bec7405b69",
   "metadata": {},
   "outputs": [],
   "source": [
    "# Show all current supported backends:\n",
    "provider = QIProvider()\n",
    "print(provider.backends())"
   ]
  },
  {
   "cell_type": "markdown",
   "id": "b7ef5531",
   "metadata": {},
   "source": [
    "## Choose your backend\n",
    "\n",
    "We will choose the QX emulator"
   ]
  },
  {
   "cell_type": "code",
   "execution_count": null,
   "id": "a22fc1d9924ffed7",
   "metadata": {},
   "outputs": [],
   "source": [
    "# Get Quantum Inspire's simulator backend:\n",
    "\n",
    "backend = provider.get_backend(\"QX emulator\")\n",
    "\n",
    "# Instantiate a Pennylane device based on chosen backend\n",
    "demo_device = QI2Device(backend)"
   ]
  },
  {
   "cell_type": "markdown",
   "id": "a9f9b123-9b11-4d62-a4ab-8af8f08f7153",
   "metadata": {},
   "source": [
    "## Create your Circuit\n",
    "Let's create a bell state circuit."
   ]
  },
  {
   "cell_type": "code",
   "execution_count": null,
   "id": "f5f94ce3e6a32941",
   "metadata": {},
   "outputs": [],
   "source": [
    "@qml.qnode(demo_device)\n",
    "def bell_state():\n",
    "    qml.Hadamard(wires=0)\n",
    "    qml.CNOT(wires=[0, 1])\n",
    "    return [qml.expval(qml.Z(x)) for x in range(2)]"
   ]
  },
  {
   "cell_type": "markdown",
   "id": "a638262c-c785-4a4f-9ba2-32cc534225f3",
   "metadata": {},
   "source": [
    "## Run the job and get results\n",
    "Let's run the circuit! Be aware that if your circuit contains gates that are not supported by the target, compilation errors may arise."
   ]
  },
  {
   "cell_type": "code",
   "execution_count": null,
   "id": "1f446ddc-7fe6-4731-9840-da1775e10e0f",
   "metadata": {},
   "outputs": [],
   "source": [
    "# Execute the circuit\n",
    "result = bell_state()\n",
    "print(result)"
   ]
  }
 ],
 "metadata": {
  "kernelspec": {
   "display_name": "qiskit-quantuminspire-C0W6c0G_-py3.12",
   "language": "python",
   "name": "python3"
  },
  "language_info": {
   "codemirror_mode": {
    "name": "ipython",
    "version": 3
   },
   "file_extension": ".py",
   "mimetype": "text/x-python",
   "name": "python",
   "nbconvert_exporter": "python",
   "pygments_lexer": "ipython3",
   "version": "3.12.5"
  }
 },
 "nbformat": 4,
 "nbformat_minor": 5
}
