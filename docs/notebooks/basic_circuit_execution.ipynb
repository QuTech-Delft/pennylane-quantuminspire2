{
 "cells": [
  {
   "cell_type": "markdown",
   "id": "48c6731f-5188-41c1-afc4-123c6ed796ae",
   "metadata": {},
   "source": [
    "# Basic circuit execution\n",
    "This notebooks illustrates how you can run your qiskit code on the Quantum Inspire 2 platform.\n",
    "\n",
    "## This notebook makes the following assumptions:\n",
    "- quantuminspire2 sdk installed\n",
    "- account exists in the QI2 platform\n",
    "- Pennylane plugin installed in the same environment as this notebook"
   ]
  },
  {
   "cell_type": "code",
   "execution_count": null,
   "id": "93fe4f56-4ced-41fc-b778-14d6c95e2434",
   "metadata": {},
   "outputs": [],
   "source": [
    "# Be sure to have logged in to the QI2 platform via the SDK. If you have installed it in the same environment as\n",
    "# this notebook, you may run this cell.\n",
    "\n",
    "!qi login \"https://staging.qi2.quantum-inspire.com\""
   ]
  },
  {
   "cell_type": "markdown",
   "id": "0d8ba9f9-9b38-4a86-9252-0b9b9fcdc83f",
   "metadata": {},
   "source": [
    "## The necessary imports"
   ]
  },
  {
   "cell_type": "code",
   "id": "3d4b3950-fe75-47cf-afb5-2286be7c01b4",
   "metadata": {
    "ExecuteTime": {
     "end_time": "2025-01-28T22:25:54.872667Z",
     "start_time": "2025-01-28T22:25:47.020056Z"
    }
   },
   "source": [
    "import pennylane as qml\n",
    "\n",
    "from pennylane_quantuminspire2.qi_device import QI2Device"
   ],
   "outputs": [
    {
     "ename": "ClientConnectorCertificateError",
     "evalue": "Cannot connect to host staging.qi2.quantum-inspire.com:443 ssl:True [SSLCertVerificationError: (1, '[SSL: CERTIFICATE_VERIFY_FAILED] certificate verify failed: unable to get local issuer certificate (_ssl.c:1000)')]",
     "output_type": "error",
     "traceback": [
      "\u001B[0;31m---------------------------------------------------------------------------\u001B[0m",
      "\u001B[0;31mSSLCertVerificationError\u001B[0m                  Traceback (most recent call last)",
      "File \u001B[0;32m~/Library/Caches/pypoetry/virtualenvs/pennylane-quantuminspire2-z2jmF64t-py3.12/lib/python3.12/site-packages/aiohttp/connector.py:1098\u001B[0m, in \u001B[0;36mTCPConnector._wrap_create_connection\u001B[0;34m(self, addr_infos, req, timeout, client_error, *args, **kwargs)\u001B[0m\n\u001B[1;32m   1091\u001B[0m         sock \u001B[38;5;241m=\u001B[39m \u001B[38;5;28;01mawait\u001B[39;00m aiohappyeyeballs\u001B[38;5;241m.\u001B[39mstart_connection(\n\u001B[1;32m   1092\u001B[0m             addr_infos\u001B[38;5;241m=\u001B[39maddr_infos,\n\u001B[1;32m   1093\u001B[0m             local_addr_infos\u001B[38;5;241m=\u001B[39m\u001B[38;5;28mself\u001B[39m\u001B[38;5;241m.\u001B[39m_local_addr_infos,\n\u001B[0;32m   (...)\u001B[0m\n\u001B[1;32m   1096\u001B[0m             loop\u001B[38;5;241m=\u001B[39m\u001B[38;5;28mself\u001B[39m\u001B[38;5;241m.\u001B[39m_loop,\n\u001B[1;32m   1097\u001B[0m         )\n\u001B[0;32m-> 1098\u001B[0m         \u001B[38;5;28;01mreturn\u001B[39;00m \u001B[38;5;28;01mawait\u001B[39;00m \u001B[38;5;28mself\u001B[39m\u001B[38;5;241m.\u001B[39m_loop\u001B[38;5;241m.\u001B[39mcreate_connection(\u001B[38;5;241m*\u001B[39margs, \u001B[38;5;241m*\u001B[39m\u001B[38;5;241m*\u001B[39mkwargs, sock\u001B[38;5;241m=\u001B[39msock)\n\u001B[1;32m   1099\u001B[0m \u001B[38;5;28;01mexcept\u001B[39;00m cert_errors \u001B[38;5;28;01mas\u001B[39;00m exc:\n",
      "File \u001B[0;32m/Library/Frameworks/Python.framework/Versions/3.12/lib/python3.12/asyncio/base_events.py:1148\u001B[0m, in \u001B[0;36mBaseEventLoop.create_connection\u001B[0;34m(self, protocol_factory, host, port, ssl, family, proto, flags, sock, local_addr, server_hostname, ssl_handshake_timeout, ssl_shutdown_timeout, happy_eyeballs_delay, interleave, all_errors)\u001B[0m\n\u001B[1;32m   1145\u001B[0m         \u001B[38;5;28;01mraise\u001B[39;00m \u001B[38;5;167;01mValueError\u001B[39;00m(\n\u001B[1;32m   1146\u001B[0m             \u001B[38;5;124mf\u001B[39m\u001B[38;5;124m'\u001B[39m\u001B[38;5;124mA Stream Socket was expected, got \u001B[39m\u001B[38;5;132;01m{\u001B[39;00msock\u001B[38;5;132;01m!r}\u001B[39;00m\u001B[38;5;124m'\u001B[39m)\n\u001B[0;32m-> 1148\u001B[0m transport, protocol \u001B[38;5;241m=\u001B[39m \u001B[38;5;28;01mawait\u001B[39;00m \u001B[38;5;28mself\u001B[39m\u001B[38;5;241m.\u001B[39m_create_connection_transport(\n\u001B[1;32m   1149\u001B[0m     sock, protocol_factory, ssl, server_hostname,\n\u001B[1;32m   1150\u001B[0m     ssl_handshake_timeout\u001B[38;5;241m=\u001B[39mssl_handshake_timeout,\n\u001B[1;32m   1151\u001B[0m     ssl_shutdown_timeout\u001B[38;5;241m=\u001B[39mssl_shutdown_timeout)\n\u001B[1;32m   1152\u001B[0m \u001B[38;5;28;01mif\u001B[39;00m \u001B[38;5;28mself\u001B[39m\u001B[38;5;241m.\u001B[39m_debug:\n\u001B[1;32m   1153\u001B[0m     \u001B[38;5;66;03m# Get the socket from the transport because SSL transport closes\u001B[39;00m\n\u001B[1;32m   1154\u001B[0m     \u001B[38;5;66;03m# the old socket and creates a new SSL socket\u001B[39;00m\n",
      "File \u001B[0;32m/Library/Frameworks/Python.framework/Versions/3.12/lib/python3.12/asyncio/base_events.py:1181\u001B[0m, in \u001B[0;36mBaseEventLoop._create_connection_transport\u001B[0;34m(self, sock, protocol_factory, ssl, server_hostname, server_side, ssl_handshake_timeout, ssl_shutdown_timeout)\u001B[0m\n\u001B[1;32m   1180\u001B[0m \u001B[38;5;28;01mtry\u001B[39;00m:\n\u001B[0;32m-> 1181\u001B[0m     \u001B[38;5;28;01mawait\u001B[39;00m waiter\n\u001B[1;32m   1182\u001B[0m \u001B[38;5;28;01mexcept\u001B[39;00m:\n",
      "File \u001B[0;32m/Library/Frameworks/Python.framework/Versions/3.12/lib/python3.12/asyncio/sslproto.py:578\u001B[0m, in \u001B[0;36mSSLProtocol._on_handshake_complete\u001B[0;34m(self, handshake_exc)\u001B[0m\n\u001B[1;32m    577\u001B[0m \u001B[38;5;28;01melse\u001B[39;00m:\n\u001B[0;32m--> 578\u001B[0m     \u001B[38;5;28;01mraise\u001B[39;00m handshake_exc\n\u001B[1;32m    580\u001B[0m peercert \u001B[38;5;241m=\u001B[39m sslobj\u001B[38;5;241m.\u001B[39mgetpeercert()\n",
      "File \u001B[0;32m/Library/Frameworks/Python.framework/Versions/3.12/lib/python3.12/asyncio/sslproto.py:560\u001B[0m, in \u001B[0;36mSSLProtocol._do_handshake\u001B[0;34m(self)\u001B[0m\n\u001B[1;32m    559\u001B[0m \u001B[38;5;28;01mtry\u001B[39;00m:\n\u001B[0;32m--> 560\u001B[0m     \u001B[38;5;28;43mself\u001B[39;49m\u001B[38;5;241;43m.\u001B[39;49m\u001B[43m_sslobj\u001B[49m\u001B[38;5;241;43m.\u001B[39;49m\u001B[43mdo_handshake\u001B[49m\u001B[43m(\u001B[49m\u001B[43m)\u001B[49m\n\u001B[1;32m    561\u001B[0m \u001B[38;5;28;01mexcept\u001B[39;00m SSLAgainErrors:\n",
      "File \u001B[0;32m/Library/Frameworks/Python.framework/Versions/3.12/lib/python3.12/ssl.py:916\u001B[0m, in \u001B[0;36mSSLObject.do_handshake\u001B[0;34m(self)\u001B[0m\n\u001B[1;32m    915\u001B[0m \u001B[38;5;250m\u001B[39m\u001B[38;5;124;03m\"\"\"Start the SSL/TLS handshake.\"\"\"\u001B[39;00m\n\u001B[0;32m--> 916\u001B[0m \u001B[38;5;28;43mself\u001B[39;49m\u001B[38;5;241;43m.\u001B[39;49m\u001B[43m_sslobj\u001B[49m\u001B[38;5;241;43m.\u001B[39;49m\u001B[43mdo_handshake\u001B[49m\u001B[43m(\u001B[49m\u001B[43m)\u001B[49m\n",
      "\u001B[0;31mSSLCertVerificationError\u001B[0m: [SSL: CERTIFICATE_VERIFY_FAILED] certificate verify failed: unable to get local issuer certificate (_ssl.c:1000)",
      "\nThe above exception was the direct cause of the following exception:\n",
      "\u001B[0;31mClientConnectorCertificateError\u001B[0m           Traceback (most recent call last)",
      "Cell \u001B[0;32mIn[1], line 3\u001B[0m\n\u001B[1;32m      1\u001B[0m \u001B[38;5;28;01mimport\u001B[39;00m \u001B[38;5;21;01mpennylane\u001B[39;00m \u001B[38;5;28;01mas\u001B[39;00m \u001B[38;5;21;01mqml\u001B[39;00m\n\u001B[0;32m----> 3\u001B[0m \u001B[38;5;28;01mfrom\u001B[39;00m \u001B[38;5;21;01mpennylane_quantuminspire2\u001B[39;00m\u001B[38;5;21;01m.\u001B[39;00m\u001B[38;5;21;01mqi_device\u001B[39;00m \u001B[38;5;28;01mimport\u001B[39;00m QI2Device\n",
      "File \u001B[0;32m~/qutech/pennylane-quantuminspire2/pennylane_quantuminspire2/qi_device.py:8\u001B[0m\n\u001B[1;32m      4\u001B[0m \u001B[38;5;28;01mfrom\u001B[39;00m \u001B[38;5;21;01mqiskit_quantuminspire\u001B[39;00m\u001B[38;5;21;01m.\u001B[39;00m\u001B[38;5;21;01mqi_backend\u001B[39;00m \u001B[38;5;28;01mimport\u001B[39;00m QIBackend\n\u001B[1;32m      5\u001B[0m \u001B[38;5;28;01mfrom\u001B[39;00m \u001B[38;5;21;01mqiskit_quantuminspire\u001B[39;00m\u001B[38;5;21;01m.\u001B[39;00m\u001B[38;5;21;01mqi_provider\u001B[39;00m \u001B[38;5;28;01mimport\u001B[39;00m QIProvider\n\u001B[0;32m----> 8\u001B[0m \u001B[38;5;28;43;01mclass\u001B[39;49;00m\u001B[43m \u001B[49m\u001B[38;5;21;43;01mQI2Device\u001B[39;49;00m\u001B[43m(\u001B[49m\u001B[43mRemoteDevice\u001B[49m\u001B[43m)\u001B[49m\u001B[43m:\u001B[49m\u001B[43m  \u001B[49m\u001B[38;5;66;43;03m# type: ignore[misc]\u001B[39;49;00m\n\u001B[1;32m     10\u001B[0m \u001B[43m    \u001B[49m\u001B[43m_qi_provider\u001B[49m\u001B[43m \u001B[49m\u001B[38;5;241;43m=\u001B[39;49m\u001B[43m \u001B[49m\u001B[43mQIProvider\u001B[49m\u001B[43m(\u001B[49m\u001B[43m)\u001B[49m\n\u001B[1;32m     12\u001B[0m \u001B[43m    \u001B[49m\u001B[38;5;28;43;01mdef\u001B[39;49;00m\u001B[43m \u001B[49m\u001B[38;5;21;43m__init__\u001B[39;49m\u001B[43m(\u001B[49m\u001B[38;5;28;43mself\u001B[39;49m\u001B[43m,\u001B[49m\u001B[43m \u001B[49m\u001B[43mbackend\u001B[49m\u001B[43m:\u001B[49m\u001B[43m \u001B[49m\u001B[43mQIBackend\u001B[49m\u001B[43m,\u001B[49m\u001B[43m \u001B[49m\u001B[38;5;241;43m*\u001B[39;49m\u001B[38;5;241;43m*\u001B[39;49m\u001B[43mkwargs\u001B[49m\u001B[43m:\u001B[49m\u001B[43m \u001B[49m\u001B[43mAny\u001B[49m\u001B[43m)\u001B[49m\u001B[43m \u001B[49m\u001B[38;5;241;43m-\u001B[39;49m\u001B[38;5;241;43m>\u001B[39;49m\u001B[43m \u001B[49m\u001B[38;5;28;43;01mNone\u001B[39;49;00m\u001B[43m:\u001B[49m\n",
      "File \u001B[0;32m~/qutech/pennylane-quantuminspire2/pennylane_quantuminspire2/qi_device.py:10\u001B[0m, in \u001B[0;36mQI2Device\u001B[0;34m()\u001B[0m\n\u001B[1;32m      8\u001B[0m \u001B[38;5;28;01mclass\u001B[39;00m \u001B[38;5;21;01mQI2Device\u001B[39;00m(RemoteDevice):  \u001B[38;5;66;03m# type: ignore[misc]\u001B[39;00m\n\u001B[0;32m---> 10\u001B[0m     _qi_provider \u001B[38;5;241m=\u001B[39m \u001B[43mQIProvider\u001B[49m\u001B[43m(\u001B[49m\u001B[43m)\u001B[49m\n\u001B[1;32m     12\u001B[0m     \u001B[38;5;28;01mdef\u001B[39;00m \u001B[38;5;21m__init__\u001B[39m(\u001B[38;5;28mself\u001B[39m, backend: QIBackend, \u001B[38;5;241m*\u001B[39m\u001B[38;5;241m*\u001B[39mkwargs: Any) \u001B[38;5;241m-\u001B[39m\u001B[38;5;241m>\u001B[39m \u001B[38;5;28;01mNone\u001B[39;00m:\n\u001B[1;32m     13\u001B[0m         \u001B[38;5;28msuper\u001B[39m()\u001B[38;5;241m.\u001B[39m\u001B[38;5;21m__init__\u001B[39m(wires\u001B[38;5;241m=\u001B[39mbackend\u001B[38;5;241m.\u001B[39mnum_qubits, backend\u001B[38;5;241m=\u001B[39mbackend, \u001B[38;5;241m*\u001B[39m\u001B[38;5;241m*\u001B[39mkwargs)\n",
      "File \u001B[0;32m~/Library/Caches/pypoetry/virtualenvs/pennylane-quantuminspire2-z2jmF64t-py3.12/lib/python3.12/site-packages/qiskit_quantuminspire/qi_provider.py:16\u001B[0m, in \u001B[0;36mQIProvider.__init__\u001B[0;34m(self)\u001B[0m\n\u001B[1;32m     15\u001B[0m \u001B[38;5;28;01mdef\u001B[39;00m \u001B[38;5;21m__init__\u001B[39m(\u001B[38;5;28mself\u001B[39m) \u001B[38;5;241m-\u001B[39m\u001B[38;5;241m>\u001B[39m \u001B[38;5;28;01mNone\u001B[39;00m:\n\u001B[0;32m---> 16\u001B[0m     \u001B[38;5;28mself\u001B[39m\u001B[38;5;241m.\u001B[39m_qiskit_backends \u001B[38;5;241m=\u001B[39m \u001B[38;5;28;43mself\u001B[39;49m\u001B[38;5;241;43m.\u001B[39;49m\u001B[43m_construct_backends\u001B[49m\u001B[43m(\u001B[49m\u001B[43m)\u001B[49m\n",
      "File \u001B[0;32m~/Library/Caches/pypoetry/virtualenvs/pennylane-quantuminspire2-z2jmF64t-py3.12/lib/python3.12/site-packages/qiskit_quantuminspire/qi_provider.py:33\u001B[0m, in \u001B[0;36mQIProvider._construct_backends\u001B[0;34m(self)\u001B[0m\n\u001B[1;32m     31\u001B[0m \u001B[38;5;28;01mdef\u001B[39;00m \u001B[38;5;21m_construct_backends\u001B[39m(\u001B[38;5;28mself\u001B[39m) \u001B[38;5;241m-\u001B[39m\u001B[38;5;241m>\u001B[39m List[QIBackend]:\n\u001B[1;32m     32\u001B[0m \u001B[38;5;250m    \u001B[39m\u001B[38;5;124;03m\"\"\"Construct QIBackend using fetched backendtypes and metadata.\"\"\"\u001B[39;00m\n\u001B[0;32m---> 33\u001B[0m     qi_backend_types \u001B[38;5;241m=\u001B[39m \u001B[43mrun_async\u001B[49m\u001B[43m(\u001B[49m\u001B[38;5;28;43mself\u001B[39;49m\u001B[38;5;241;43m.\u001B[39;49m\u001B[43m_fetch_qi_backend_types\u001B[49m\u001B[43m(\u001B[49m\u001B[43m)\u001B[49m\u001B[43m)\u001B[49m\n\u001B[1;32m     34\u001B[0m     qi_backends \u001B[38;5;241m=\u001B[39m [QIBackend(provider\u001B[38;5;241m=\u001B[39m\u001B[38;5;28mself\u001B[39m, backend_type\u001B[38;5;241m=\u001B[39mbackend_type) \u001B[38;5;28;01mfor\u001B[39;00m backend_type \u001B[38;5;129;01min\u001B[39;00m qi_backend_types]\n\u001B[1;32m     35\u001B[0m     \u001B[38;5;28;01mreturn\u001B[39;00m qi_backends\n",
      "File \u001B[0;32m~/Library/Caches/pypoetry/virtualenvs/pennylane-quantuminspire2-z2jmF64t-py3.12/lib/python3.12/site-packages/qiskit_quantuminspire/utils.py:23\u001B[0m, in \u001B[0;36mrun_async\u001B[0;34m(async_function)\u001B[0m\n\u001B[1;32m     21\u001B[0m     _ \u001B[38;5;241m=\u001B[39m asyncio\u001B[38;5;241m.\u001B[39mget_running_loop()\n\u001B[1;32m     22\u001B[0m     \u001B[38;5;28;01mwith\u001B[39;00m concurrent\u001B[38;5;241m.\u001B[39mfutures\u001B[38;5;241m.\u001B[39mThreadPoolExecutor() \u001B[38;5;28;01mas\u001B[39;00m executor:\n\u001B[0;32m---> 23\u001B[0m         \u001B[38;5;28;01mreturn\u001B[39;00m \u001B[43mexecutor\u001B[49m\u001B[38;5;241;43m.\u001B[39;49m\u001B[43msubmit\u001B[49m\u001B[43m(\u001B[49m\u001B[43masyncio\u001B[49m\u001B[38;5;241;43m.\u001B[39;49m\u001B[43mrun\u001B[49m\u001B[43m,\u001B[49m\u001B[43m \u001B[49m\u001B[43masync_function\u001B[49m\u001B[43m)\u001B[49m\u001B[38;5;241;43m.\u001B[39;49m\u001B[43mresult\u001B[49m\u001B[43m(\u001B[49m\u001B[43m)\u001B[49m\n\u001B[1;32m     24\u001B[0m \u001B[38;5;28;01mexcept\u001B[39;00m \u001B[38;5;167;01mRuntimeError\u001B[39;00m:\n\u001B[1;32m     25\u001B[0m     \u001B[38;5;28;01mreturn\u001B[39;00m asyncio\u001B[38;5;241m.\u001B[39mrun(async_function)\n",
      "File \u001B[0;32m/Library/Frameworks/Python.framework/Versions/3.12/lib/python3.12/concurrent/futures/_base.py:456\u001B[0m, in \u001B[0;36mFuture.result\u001B[0;34m(self, timeout)\u001B[0m\n\u001B[1;32m    454\u001B[0m     \u001B[38;5;28;01mraise\u001B[39;00m CancelledError()\n\u001B[1;32m    455\u001B[0m \u001B[38;5;28;01melif\u001B[39;00m \u001B[38;5;28mself\u001B[39m\u001B[38;5;241m.\u001B[39m_state \u001B[38;5;241m==\u001B[39m FINISHED:\n\u001B[0;32m--> 456\u001B[0m     \u001B[38;5;28;01mreturn\u001B[39;00m \u001B[38;5;28;43mself\u001B[39;49m\u001B[38;5;241;43m.\u001B[39;49m\u001B[43m__get_result\u001B[49m\u001B[43m(\u001B[49m\u001B[43m)\u001B[49m\n\u001B[1;32m    457\u001B[0m \u001B[38;5;28;01melse\u001B[39;00m:\n\u001B[1;32m    458\u001B[0m     \u001B[38;5;28;01mraise\u001B[39;00m \u001B[38;5;167;01mTimeoutError\u001B[39;00m()\n",
      "File \u001B[0;32m/Library/Frameworks/Python.framework/Versions/3.12/lib/python3.12/concurrent/futures/_base.py:401\u001B[0m, in \u001B[0;36mFuture.__get_result\u001B[0;34m(self)\u001B[0m\n\u001B[1;32m    399\u001B[0m \u001B[38;5;28;01mif\u001B[39;00m \u001B[38;5;28mself\u001B[39m\u001B[38;5;241m.\u001B[39m_exception:\n\u001B[1;32m    400\u001B[0m     \u001B[38;5;28;01mtry\u001B[39;00m:\n\u001B[0;32m--> 401\u001B[0m         \u001B[38;5;28;01mraise\u001B[39;00m \u001B[38;5;28mself\u001B[39m\u001B[38;5;241m.\u001B[39m_exception\n\u001B[1;32m    402\u001B[0m     \u001B[38;5;28;01mfinally\u001B[39;00m:\n\u001B[1;32m    403\u001B[0m         \u001B[38;5;66;03m# Break a reference cycle with the exception in self._exception\u001B[39;00m\n\u001B[1;32m    404\u001B[0m         \u001B[38;5;28mself\u001B[39m \u001B[38;5;241m=\u001B[39m \u001B[38;5;28;01mNone\u001B[39;00m\n",
      "File \u001B[0;32m/Library/Frameworks/Python.framework/Versions/3.12/lib/python3.12/concurrent/futures/thread.py:58\u001B[0m, in \u001B[0;36m_WorkItem.run\u001B[0;34m(self)\u001B[0m\n\u001B[1;32m     55\u001B[0m     \u001B[38;5;28;01mreturn\u001B[39;00m\n\u001B[1;32m     57\u001B[0m \u001B[38;5;28;01mtry\u001B[39;00m:\n\u001B[0;32m---> 58\u001B[0m     result \u001B[38;5;241m=\u001B[39m \u001B[38;5;28;43mself\u001B[39;49m\u001B[38;5;241;43m.\u001B[39;49m\u001B[43mfn\u001B[49m\u001B[43m(\u001B[49m\u001B[38;5;241;43m*\u001B[39;49m\u001B[38;5;28;43mself\u001B[39;49m\u001B[38;5;241;43m.\u001B[39;49m\u001B[43margs\u001B[49m\u001B[43m,\u001B[49m\u001B[43m \u001B[49m\u001B[38;5;241;43m*\u001B[39;49m\u001B[38;5;241;43m*\u001B[39;49m\u001B[38;5;28;43mself\u001B[39;49m\u001B[38;5;241;43m.\u001B[39;49m\u001B[43mkwargs\u001B[49m\u001B[43m)\u001B[49m\n\u001B[1;32m     59\u001B[0m \u001B[38;5;28;01mexcept\u001B[39;00m \u001B[38;5;167;01mBaseException\u001B[39;00m \u001B[38;5;28;01mas\u001B[39;00m exc:\n\u001B[1;32m     60\u001B[0m     \u001B[38;5;28mself\u001B[39m\u001B[38;5;241m.\u001B[39mfuture\u001B[38;5;241m.\u001B[39mset_exception(exc)\n",
      "File \u001B[0;32m/Library/Frameworks/Python.framework/Versions/3.12/lib/python3.12/asyncio/runners.py:194\u001B[0m, in \u001B[0;36mrun\u001B[0;34m(main, debug, loop_factory)\u001B[0m\n\u001B[1;32m    190\u001B[0m     \u001B[38;5;28;01mraise\u001B[39;00m \u001B[38;5;167;01mRuntimeError\u001B[39;00m(\n\u001B[1;32m    191\u001B[0m         \u001B[38;5;124m\"\u001B[39m\u001B[38;5;124masyncio.run() cannot be called from a running event loop\u001B[39m\u001B[38;5;124m\"\u001B[39m)\n\u001B[1;32m    193\u001B[0m \u001B[38;5;28;01mwith\u001B[39;00m Runner(debug\u001B[38;5;241m=\u001B[39mdebug, loop_factory\u001B[38;5;241m=\u001B[39mloop_factory) \u001B[38;5;28;01mas\u001B[39;00m runner:\n\u001B[0;32m--> 194\u001B[0m     \u001B[38;5;28;01mreturn\u001B[39;00m \u001B[43mrunner\u001B[49m\u001B[38;5;241;43m.\u001B[39;49m\u001B[43mrun\u001B[49m\u001B[43m(\u001B[49m\u001B[43mmain\u001B[49m\u001B[43m)\u001B[49m\n",
      "File \u001B[0;32m/Library/Frameworks/Python.framework/Versions/3.12/lib/python3.12/asyncio/runners.py:118\u001B[0m, in \u001B[0;36mRunner.run\u001B[0;34m(self, coro, context)\u001B[0m\n\u001B[1;32m    116\u001B[0m \u001B[38;5;28mself\u001B[39m\u001B[38;5;241m.\u001B[39m_interrupt_count \u001B[38;5;241m=\u001B[39m \u001B[38;5;241m0\u001B[39m\n\u001B[1;32m    117\u001B[0m \u001B[38;5;28;01mtry\u001B[39;00m:\n\u001B[0;32m--> 118\u001B[0m     \u001B[38;5;28;01mreturn\u001B[39;00m \u001B[38;5;28;43mself\u001B[39;49m\u001B[38;5;241;43m.\u001B[39;49m\u001B[43m_loop\u001B[49m\u001B[38;5;241;43m.\u001B[39;49m\u001B[43mrun_until_complete\u001B[49m\u001B[43m(\u001B[49m\u001B[43mtask\u001B[49m\u001B[43m)\u001B[49m\n\u001B[1;32m    119\u001B[0m \u001B[38;5;28;01mexcept\u001B[39;00m exceptions\u001B[38;5;241m.\u001B[39mCancelledError:\n\u001B[1;32m    120\u001B[0m     \u001B[38;5;28;01mif\u001B[39;00m \u001B[38;5;28mself\u001B[39m\u001B[38;5;241m.\u001B[39m_interrupt_count \u001B[38;5;241m>\u001B[39m \u001B[38;5;241m0\u001B[39m:\n",
      "File \u001B[0;32m/Library/Frameworks/Python.framework/Versions/3.12/lib/python3.12/asyncio/base_events.py:687\u001B[0m, in \u001B[0;36mBaseEventLoop.run_until_complete\u001B[0;34m(self, future)\u001B[0m\n\u001B[1;32m    684\u001B[0m \u001B[38;5;28;01mif\u001B[39;00m \u001B[38;5;129;01mnot\u001B[39;00m future\u001B[38;5;241m.\u001B[39mdone():\n\u001B[1;32m    685\u001B[0m     \u001B[38;5;28;01mraise\u001B[39;00m \u001B[38;5;167;01mRuntimeError\u001B[39;00m(\u001B[38;5;124m'\u001B[39m\u001B[38;5;124mEvent loop stopped before Future completed.\u001B[39m\u001B[38;5;124m'\u001B[39m)\n\u001B[0;32m--> 687\u001B[0m \u001B[38;5;28;01mreturn\u001B[39;00m \u001B[43mfuture\u001B[49m\u001B[38;5;241;43m.\u001B[39;49m\u001B[43mresult\u001B[49m\u001B[43m(\u001B[49m\u001B[43m)\u001B[49m\n",
      "File \u001B[0;32m~/Library/Caches/pypoetry/virtualenvs/pennylane-quantuminspire2-z2jmF64t-py3.12/lib/python3.12/site-packages/qiskit_quantuminspire/qi_provider.py:26\u001B[0m, in \u001B[0;36mQIProvider._fetch_qi_backend_types\u001B[0;34m(self)\u001B[0m\n\u001B[1;32m     24\u001B[0m     page_reader \u001B[38;5;241m=\u001B[39m PageReader[PageBackendType, BackendType]()\n\u001B[1;32m     25\u001B[0m     backend_types_api \u001B[38;5;241m=\u001B[39m BackendTypesApi(client)\n\u001B[0;32m---> 26\u001B[0m     backend_types: List[BackendType] \u001B[38;5;241m=\u001B[39m \u001B[38;5;28;01mawait\u001B[39;00m page_reader\u001B[38;5;241m.\u001B[39mget_all(\n\u001B[1;32m     27\u001B[0m         backend_types_api\u001B[38;5;241m.\u001B[39mread_backend_types_backend_types_get\n\u001B[1;32m     28\u001B[0m     )\n\u001B[1;32m     29\u001B[0m \u001B[38;5;28;01mreturn\u001B[39;00m backend_types\n",
      "File \u001B[0;32m~/Library/Caches/pypoetry/virtualenvs/pennylane-quantuminspire2-z2jmF64t-py3.12/lib/python3.12/site-packages/qiskit_quantuminspire/api/pagination.py:30\u001B[0m, in \u001B[0;36mPageReader.get_all\u001B[0;34m(self, api_call, **kwargs)\u001B[0m\n\u001B[1;32m     27\u001B[0m page \u001B[38;5;241m=\u001B[39m \u001B[38;5;241m1\u001B[39m\n\u001B[1;32m     29\u001B[0m \u001B[38;5;28;01mwhile\u001B[39;00m \u001B[38;5;28;01mTrue\u001B[39;00m:\n\u001B[0;32m---> 30\u001B[0m     response \u001B[38;5;241m=\u001B[39m cast(PageInterface[ItemType], \u001B[38;5;28;01mawait\u001B[39;00m api_call(page\u001B[38;5;241m=\u001B[39mpage, \u001B[38;5;241m*\u001B[39m\u001B[38;5;241m*\u001B[39mkwargs))\n\u001B[1;32m     32\u001B[0m     items\u001B[38;5;241m.\u001B[39mextend(response\u001B[38;5;241m.\u001B[39mitems)\n\u001B[1;32m     33\u001B[0m     page \u001B[38;5;241m+\u001B[39m\u001B[38;5;241m=\u001B[39m \u001B[38;5;241m1\u001B[39m\n",
      "File \u001B[0;32m~/Library/Caches/pypoetry/virtualenvs/pennylane-quantuminspire2-z2jmF64t-py3.12/lib/python3.12/site-packages/pydantic/_internal/_validate_call.py:33\u001B[0m, in \u001B[0;36mupdate_wrapper_attributes.<locals>.wrapper_function\u001B[0;34m(*args, **kwargs)\u001B[0m\n\u001B[1;32m     31\u001B[0m \u001B[38;5;129m@functools\u001B[39m\u001B[38;5;241m.\u001B[39mwraps(wrapped)\n\u001B[1;32m     32\u001B[0m \u001B[38;5;28;01masync\u001B[39;00m \u001B[38;5;28;01mdef\u001B[39;00m \u001B[38;5;21mwrapper_function\u001B[39m(\u001B[38;5;241m*\u001B[39margs, \u001B[38;5;241m*\u001B[39m\u001B[38;5;241m*\u001B[39mkwargs):  \u001B[38;5;66;03m# type: ignore\u001B[39;00m\n\u001B[0;32m---> 33\u001B[0m     \u001B[38;5;28;01mreturn\u001B[39;00m \u001B[38;5;28;01mawait\u001B[39;00m wrapper(\u001B[38;5;241m*\u001B[39margs, \u001B[38;5;241m*\u001B[39m\u001B[38;5;241m*\u001B[39mkwargs)\n",
      "File \u001B[0;32m~/Library/Caches/pypoetry/virtualenvs/pennylane-quantuminspire2-z2jmF64t-py3.12/lib/python3.12/site-packages/compute_api_client/api/backend_types_api.py:436\u001B[0m, in \u001B[0;36mBackendTypesApi.read_backend_types_backend_types_get\u001B[0;34m(self, id, name, infrastructure, description, image_id, is_hardware, supports_raw_data, nqubits, status, default_number_of_shots, max_number_of_shots, sort_by, latest, page, size, _request_timeout, _request_auth, _content_type, _headers, _host_index)\u001B[0m\n\u001B[1;32m    409\u001B[0m _param \u001B[38;5;241m=\u001B[39m \u001B[38;5;28mself\u001B[39m\u001B[38;5;241m.\u001B[39m_read_backend_types_backend_types_get_serialize(\n\u001B[1;32m    410\u001B[0m     \u001B[38;5;28mid\u001B[39m\u001B[38;5;241m=\u001B[39m\u001B[38;5;28mid\u001B[39m,\n\u001B[1;32m    411\u001B[0m     name\u001B[38;5;241m=\u001B[39mname,\n\u001B[0;32m   (...)\u001B[0m\n\u001B[1;32m    428\u001B[0m     _host_index\u001B[38;5;241m=\u001B[39m_host_index\n\u001B[1;32m    429\u001B[0m )\n\u001B[1;32m    431\u001B[0m _response_types_map: Dict[\u001B[38;5;28mstr\u001B[39m, Optional[\u001B[38;5;28mstr\u001B[39m]] \u001B[38;5;241m=\u001B[39m {\n\u001B[1;32m    432\u001B[0m     \u001B[38;5;124m'\u001B[39m\u001B[38;5;124m200\u001B[39m\u001B[38;5;124m'\u001B[39m: \u001B[38;5;124m\"\u001B[39m\u001B[38;5;124mPageBackendType\u001B[39m\u001B[38;5;124m\"\u001B[39m,\n\u001B[1;32m    433\u001B[0m     \u001B[38;5;124m'\u001B[39m\u001B[38;5;124m422\u001B[39m\u001B[38;5;124m'\u001B[39m: \u001B[38;5;124m\"\u001B[39m\u001B[38;5;124mHTTPValidationError\u001B[39m\u001B[38;5;124m\"\u001B[39m\n\u001B[1;32m    434\u001B[0m     \n\u001B[1;32m    435\u001B[0m }\n\u001B[0;32m--> 436\u001B[0m response_data \u001B[38;5;241m=\u001B[39m \u001B[38;5;28;01mawait\u001B[39;00m \u001B[38;5;28mself\u001B[39m\u001B[38;5;241m.\u001B[39mapi_client\u001B[38;5;241m.\u001B[39mcall_api(\n\u001B[1;32m    437\u001B[0m     \u001B[38;5;241m*\u001B[39m_param,\n\u001B[1;32m    438\u001B[0m     _request_timeout\u001B[38;5;241m=\u001B[39m_request_timeout\n\u001B[1;32m    439\u001B[0m )\n\u001B[1;32m    440\u001B[0m \u001B[38;5;28;01mawait\u001B[39;00m response_data\u001B[38;5;241m.\u001B[39mread()\n\u001B[1;32m    441\u001B[0m \u001B[38;5;28;01mreturn\u001B[39;00m \u001B[38;5;28mself\u001B[39m\u001B[38;5;241m.\u001B[39mapi_client\u001B[38;5;241m.\u001B[39mresponse_deserialize(\n\u001B[1;32m    442\u001B[0m     response_data\u001B[38;5;241m=\u001B[39mresponse_data,\n\u001B[1;32m    443\u001B[0m     response_types_map\u001B[38;5;241m=\u001B[39m_response_types_map,\n\u001B[1;32m    444\u001B[0m )\u001B[38;5;241m.\u001B[39mdata\n",
      "File \u001B[0;32m~/Library/Caches/pypoetry/virtualenvs/pennylane-quantuminspire2-z2jmF64t-py3.12/lib/python3.12/site-packages/compute_api_client/api_client.py:271\u001B[0m, in \u001B[0;36mApiClient.call_api\u001B[0;34m(self, method, url, header_params, body, post_params, _request_timeout)\u001B[0m\n\u001B[1;32m    257\u001B[0m \u001B[38;5;250m\u001B[39m\u001B[38;5;124;03m\"\"\"Makes the HTTP request (synchronous)\u001B[39;00m\n\u001B[1;32m    258\u001B[0m \u001B[38;5;124;03m:param method: Method to call.\u001B[39;00m\n\u001B[1;32m    259\u001B[0m \u001B[38;5;124;03m:param url: Path to method endpoint.\u001B[39;00m\n\u001B[0;32m   (...)\u001B[0m\n\u001B[1;32m    266\u001B[0m \u001B[38;5;124;03m:return: RESTResponse\u001B[39;00m\n\u001B[1;32m    267\u001B[0m \u001B[38;5;124;03m\"\"\"\u001B[39;00m\n\u001B[1;32m    269\u001B[0m \u001B[38;5;28;01mtry\u001B[39;00m:\n\u001B[1;32m    270\u001B[0m     \u001B[38;5;66;03m# perform request and return response\u001B[39;00m\n\u001B[0;32m--> 271\u001B[0m     response_data \u001B[38;5;241m=\u001B[39m \u001B[38;5;28;01mawait\u001B[39;00m \u001B[38;5;28mself\u001B[39m\u001B[38;5;241m.\u001B[39mrest_client\u001B[38;5;241m.\u001B[39mrequest(\n\u001B[1;32m    272\u001B[0m         method, url,\n\u001B[1;32m    273\u001B[0m         headers\u001B[38;5;241m=\u001B[39mheader_params,\n\u001B[1;32m    274\u001B[0m         body\u001B[38;5;241m=\u001B[39mbody, post_params\u001B[38;5;241m=\u001B[39mpost_params,\n\u001B[1;32m    275\u001B[0m         _request_timeout\u001B[38;5;241m=\u001B[39m_request_timeout\n\u001B[1;32m    276\u001B[0m     )\n\u001B[1;32m    278\u001B[0m \u001B[38;5;28;01mexcept\u001B[39;00m ApiException \u001B[38;5;28;01mas\u001B[39;00m e:\n\u001B[1;32m    279\u001B[0m     \u001B[38;5;28;01mif\u001B[39;00m e\u001B[38;5;241m.\u001B[39mbody:\n",
      "File \u001B[0;32m~/Library/Caches/pypoetry/virtualenvs/pennylane-quantuminspire2-z2jmF64t-py3.12/lib/python3.12/site-packages/compute_api_client/rest.py:181\u001B[0m, in \u001B[0;36mRESTClientObject.request\u001B[0;34m(self, method, url, headers, body, post_params, _request_timeout)\u001B[0m\n\u001B[1;32m    176\u001B[0m         msg \u001B[38;5;241m=\u001B[39m \u001B[38;5;124m\"\"\"\u001B[39m\u001B[38;5;124mCannot prepare a request message for provided\u001B[39m\n\u001B[1;32m    177\u001B[0m \u001B[38;5;124m                 arguments. Please check that your arguments match\u001B[39m\n\u001B[1;32m    178\u001B[0m \u001B[38;5;124m                 declared content type.\u001B[39m\u001B[38;5;124m\"\"\"\u001B[39m\n\u001B[1;32m    179\u001B[0m         \u001B[38;5;28;01mraise\u001B[39;00m ApiException(status\u001B[38;5;241m=\u001B[39m\u001B[38;5;241m0\u001B[39m, reason\u001B[38;5;241m=\u001B[39mmsg)\n\u001B[0;32m--> 181\u001B[0m r \u001B[38;5;241m=\u001B[39m \u001B[38;5;28;01mawait\u001B[39;00m \u001B[38;5;28mself\u001B[39m\u001B[38;5;241m.\u001B[39mpool_manager\u001B[38;5;241m.\u001B[39mrequest(\u001B[38;5;241m*\u001B[39m\u001B[38;5;241m*\u001B[39margs)\n\u001B[1;32m    183\u001B[0m \u001B[38;5;28;01mreturn\u001B[39;00m RESTResponse(r)\n",
      "File \u001B[0;32m~/Library/Caches/pypoetry/virtualenvs/pennylane-quantuminspire2-z2jmF64t-py3.12/lib/python3.12/site-packages/aiohttp/client.py:663\u001B[0m, in \u001B[0;36mClientSession._request\u001B[0;34m(self, method, str_or_url, params, data, json, cookies, headers, skip_auto_headers, auth, allow_redirects, max_redirects, compress, chunked, expect100, raise_for_status, read_until_eof, proxy, proxy_auth, timeout, verify_ssl, fingerprint, ssl_context, ssl, server_hostname, proxy_headers, trace_request_ctx, read_bufsize, auto_decompress, max_line_size, max_field_size)\u001B[0m\n\u001B[1;32m    658\u001B[0m \u001B[38;5;28;01mtry\u001B[39;00m:\n\u001B[1;32m    659\u001B[0m     \u001B[38;5;28;01masync\u001B[39;00m \u001B[38;5;28;01mwith\u001B[39;00m ceil_timeout(\n\u001B[1;32m    660\u001B[0m         real_timeout\u001B[38;5;241m.\u001B[39mconnect,\n\u001B[1;32m    661\u001B[0m         ceil_threshold\u001B[38;5;241m=\u001B[39mreal_timeout\u001B[38;5;241m.\u001B[39mceil_threshold,\n\u001B[1;32m    662\u001B[0m     ):\n\u001B[0;32m--> 663\u001B[0m         conn \u001B[38;5;241m=\u001B[39m \u001B[38;5;28;01mawait\u001B[39;00m \u001B[38;5;28mself\u001B[39m\u001B[38;5;241m.\u001B[39m_connector\u001B[38;5;241m.\u001B[39mconnect(\n\u001B[1;32m    664\u001B[0m             req, traces\u001B[38;5;241m=\u001B[39mtraces, timeout\u001B[38;5;241m=\u001B[39mreal_timeout\n\u001B[1;32m    665\u001B[0m         )\n\u001B[1;32m    666\u001B[0m \u001B[38;5;28;01mexcept\u001B[39;00m asyncio\u001B[38;5;241m.\u001B[39mTimeoutError \u001B[38;5;28;01mas\u001B[39;00m exc:\n\u001B[1;32m    667\u001B[0m     \u001B[38;5;28;01mraise\u001B[39;00m ConnectionTimeoutError(\n\u001B[1;32m    668\u001B[0m         \u001B[38;5;124mf\u001B[39m\u001B[38;5;124m\"\u001B[39m\u001B[38;5;124mConnection timeout to host \u001B[39m\u001B[38;5;132;01m{\u001B[39;00murl\u001B[38;5;132;01m}\u001B[39;00m\u001B[38;5;124m\"\u001B[39m\n\u001B[1;32m    669\u001B[0m     ) \u001B[38;5;28;01mfrom\u001B[39;00m \u001B[38;5;21;01mexc\u001B[39;00m\n",
      "File \u001B[0;32m~/Library/Caches/pypoetry/virtualenvs/pennylane-quantuminspire2-z2jmF64t-py3.12/lib/python3.12/site-packages/aiohttp/connector.py:563\u001B[0m, in \u001B[0;36mBaseConnector.connect\u001B[0;34m(self, req, traces, timeout)\u001B[0m\n\u001B[1;32m    560\u001B[0m         \u001B[38;5;28;01mawait\u001B[39;00m trace\u001B[38;5;241m.\u001B[39msend_connection_create_start()\n\u001B[1;32m    562\u001B[0m \u001B[38;5;28;01mtry\u001B[39;00m:\n\u001B[0;32m--> 563\u001B[0m     proto \u001B[38;5;241m=\u001B[39m \u001B[38;5;28;01mawait\u001B[39;00m \u001B[38;5;28mself\u001B[39m\u001B[38;5;241m.\u001B[39m_create_connection(req, traces, timeout)\n\u001B[1;32m    564\u001B[0m     \u001B[38;5;28;01mif\u001B[39;00m \u001B[38;5;28mself\u001B[39m\u001B[38;5;241m.\u001B[39m_closed:\n\u001B[1;32m    565\u001B[0m         proto\u001B[38;5;241m.\u001B[39mclose()\n",
      "File \u001B[0;32m~/Library/Caches/pypoetry/virtualenvs/pennylane-quantuminspire2-z2jmF64t-py3.12/lib/python3.12/site-packages/aiohttp/connector.py:1032\u001B[0m, in \u001B[0;36mTCPConnector._create_connection\u001B[0;34m(self, req, traces, timeout)\u001B[0m\n\u001B[1;32m   1030\u001B[0m     _, proto \u001B[38;5;241m=\u001B[39m \u001B[38;5;28;01mawait\u001B[39;00m \u001B[38;5;28mself\u001B[39m\u001B[38;5;241m.\u001B[39m_create_proxy_connection(req, traces, timeout)\n\u001B[1;32m   1031\u001B[0m \u001B[38;5;28;01melse\u001B[39;00m:\n\u001B[0;32m-> 1032\u001B[0m     _, proto \u001B[38;5;241m=\u001B[39m \u001B[38;5;28;01mawait\u001B[39;00m \u001B[38;5;28mself\u001B[39m\u001B[38;5;241m.\u001B[39m_create_direct_connection(req, traces, timeout)\n\u001B[1;32m   1034\u001B[0m \u001B[38;5;28;01mreturn\u001B[39;00m proto\n",
      "File \u001B[0;32m~/Library/Caches/pypoetry/virtualenvs/pennylane-quantuminspire2-z2jmF64t-py3.12/lib/python3.12/site-packages/aiohttp/connector.py:1366\u001B[0m, in \u001B[0;36mTCPConnector._create_direct_connection\u001B[0;34m(self, req, traces, timeout, client_error)\u001B[0m\n\u001B[1;32m   1364\u001B[0m \u001B[38;5;28;01melse\u001B[39;00m:\n\u001B[1;32m   1365\u001B[0m     \u001B[38;5;28;01massert\u001B[39;00m last_exc \u001B[38;5;129;01mis\u001B[39;00m \u001B[38;5;129;01mnot\u001B[39;00m \u001B[38;5;28;01mNone\u001B[39;00m\n\u001B[0;32m-> 1366\u001B[0m     \u001B[38;5;28;01mraise\u001B[39;00m last_exc\n",
      "File \u001B[0;32m~/Library/Caches/pypoetry/virtualenvs/pennylane-quantuminspire2-z2jmF64t-py3.12/lib/python3.12/site-packages/aiohttp/connector.py:1335\u001B[0m, in \u001B[0;36mTCPConnector._create_direct_connection\u001B[0;34m(self, req, traces, timeout, client_error)\u001B[0m\n\u001B[1;32m   1330\u001B[0m server_hostname \u001B[38;5;241m=\u001B[39m (\n\u001B[1;32m   1331\u001B[0m     (req\u001B[38;5;241m.\u001B[39mserver_hostname \u001B[38;5;129;01mor\u001B[39;00m host)\u001B[38;5;241m.\u001B[39mrstrip(\u001B[38;5;124m\"\u001B[39m\u001B[38;5;124m.\u001B[39m\u001B[38;5;124m\"\u001B[39m) \u001B[38;5;28;01mif\u001B[39;00m sslcontext \u001B[38;5;28;01melse\u001B[39;00m \u001B[38;5;28;01mNone\u001B[39;00m\n\u001B[1;32m   1332\u001B[0m )\n\u001B[1;32m   1334\u001B[0m \u001B[38;5;28;01mtry\u001B[39;00m:\n\u001B[0;32m-> 1335\u001B[0m     transp, proto \u001B[38;5;241m=\u001B[39m \u001B[38;5;28;01mawait\u001B[39;00m \u001B[38;5;28mself\u001B[39m\u001B[38;5;241m.\u001B[39m_wrap_create_connection(\n\u001B[1;32m   1336\u001B[0m         \u001B[38;5;28mself\u001B[39m\u001B[38;5;241m.\u001B[39m_factory,\n\u001B[1;32m   1337\u001B[0m         timeout\u001B[38;5;241m=\u001B[39mtimeout,\n\u001B[1;32m   1338\u001B[0m         ssl\u001B[38;5;241m=\u001B[39msslcontext,\n\u001B[1;32m   1339\u001B[0m         addr_infos\u001B[38;5;241m=\u001B[39maddr_infos,\n\u001B[1;32m   1340\u001B[0m         server_hostname\u001B[38;5;241m=\u001B[39mserver_hostname,\n\u001B[1;32m   1341\u001B[0m         req\u001B[38;5;241m=\u001B[39mreq,\n\u001B[1;32m   1342\u001B[0m         client_error\u001B[38;5;241m=\u001B[39mclient_error,\n\u001B[1;32m   1343\u001B[0m     )\n\u001B[1;32m   1344\u001B[0m \u001B[38;5;28;01mexcept\u001B[39;00m (ClientConnectorError, asyncio\u001B[38;5;241m.\u001B[39mTimeoutError) \u001B[38;5;28;01mas\u001B[39;00m exc:\n\u001B[1;32m   1345\u001B[0m     last_exc \u001B[38;5;241m=\u001B[39m exc\n",
      "File \u001B[0;32m~/Library/Caches/pypoetry/virtualenvs/pennylane-quantuminspire2-z2jmF64t-py3.12/lib/python3.12/site-packages/aiohttp/connector.py:1100\u001B[0m, in \u001B[0;36mTCPConnector._wrap_create_connection\u001B[0;34m(self, addr_infos, req, timeout, client_error, *args, **kwargs)\u001B[0m\n\u001B[1;32m   1098\u001B[0m         \u001B[38;5;28;01mreturn\u001B[39;00m \u001B[38;5;28;01mawait\u001B[39;00m \u001B[38;5;28mself\u001B[39m\u001B[38;5;241m.\u001B[39m_loop\u001B[38;5;241m.\u001B[39mcreate_connection(\u001B[38;5;241m*\u001B[39margs, \u001B[38;5;241m*\u001B[39m\u001B[38;5;241m*\u001B[39mkwargs, sock\u001B[38;5;241m=\u001B[39msock)\n\u001B[1;32m   1099\u001B[0m \u001B[38;5;28;01mexcept\u001B[39;00m cert_errors \u001B[38;5;28;01mas\u001B[39;00m exc:\n\u001B[0;32m-> 1100\u001B[0m     \u001B[38;5;28;01mraise\u001B[39;00m ClientConnectorCertificateError(req\u001B[38;5;241m.\u001B[39mconnection_key, exc) \u001B[38;5;28;01mfrom\u001B[39;00m \u001B[38;5;21;01mexc\u001B[39;00m\n\u001B[1;32m   1101\u001B[0m \u001B[38;5;28;01mexcept\u001B[39;00m ssl_errors \u001B[38;5;28;01mas\u001B[39;00m exc:\n\u001B[1;32m   1102\u001B[0m     \u001B[38;5;28;01mraise\u001B[39;00m ClientConnectorSSLError(req\u001B[38;5;241m.\u001B[39mconnection_key, exc) \u001B[38;5;28;01mfrom\u001B[39;00m \u001B[38;5;21;01mexc\u001B[39;00m\n",
      "\u001B[0;31mClientConnectorCertificateError\u001B[0m: Cannot connect to host staging.qi2.quantum-inspire.com:443 ssl:True [SSLCertVerificationError: (1, '[SSL: CERTIFICATE_VERIFY_FAILED] certificate verify failed: unable to get local issuer certificate (_ssl.c:1000)')]"
     ]
    }
   ],
   "execution_count": 1
  },
  {
   "cell_type": "markdown",
   "id": "0b464f03-9573-4c3c-852c-3ea4477b59ec",
   "metadata": {},
   "source": [
    "## What QI Backends are available?"
   ]
  },
  {
   "cell_type": "code",
   "execution_count": null,
   "id": "df119aa6-6b48-43a5-aa68-ecf4f7c0dc38",
   "metadata": {},
   "outputs": [],
   "source": [
    "# Show all current supported backends:\n",
    "print(QI2Device.backends())"
   ]
  },
  {
   "cell_type": "markdown",
   "id": "b7ef5531",
   "metadata": {},
   "source": [
    "## Choose your backend\n",
    "\n",
    "We will choose the QX emulator"
   ]
  },
  {
   "cell_type": "code",
   "execution_count": null,
   "id": "72f3d7dc",
   "metadata": {},
   "outputs": [],
   "source": [
    "# Get Quantum Inspire's simulator backend:\n",
    "emulator_backend = QI2Device.get_backend(\"QX emulator\")\n",
    "\n",
    "# Instantiate a Pennylane device based on chosen backend\n",
    "demo_device = QI2Device(emulator_backend)"
   ]
  },
  {
   "cell_type": "markdown",
   "id": "a9f9b123-9b11-4d62-a4ab-8af8f08f7153",
   "metadata": {},
   "source": [
    "## Create your Circuit\n",
    "Let's create a bell state circuit."
   ]
  },
  {
   "cell_type": "code",
   "execution_count": null,
   "id": "e6bbe6af-9908-46cb-8638-8f29966fbf61",
   "metadata": {},
   "outputs": [],
   "source": [
    "@qml.qnode(demo_device)\n",
    "def bell_state():\n",
    "    qml.Hadamard(wires=0)\n",
    "    qml.CNOT(wires=[0, 1])\n",
    "    return [qml.expval(qml.Z(x)) for x in range(2)]"
   ]
  },
  {
   "cell_type": "markdown",
   "id": "a638262c-c785-4a4f-9ba2-32cc534225f3",
   "metadata": {},
   "source": [
    "## Run the job and get results\n",
    "Let's run the circuit! Be aware that if your circuit contains gates that are not supported by the target, compilation errors may arise."
   ]
  },
  {
   "cell_type": "code",
   "execution_count": null,
   "id": "1f446ddc-7fe6-4731-9840-da1775e10e0f",
   "metadata": {},
   "outputs": [],
   "source": [
    "# Execute the circuit\n",
    "result = bell_state()\n",
    "print(result)"
   ]
  }
 ],
 "metadata": {
  "kernelspec": {
   "display_name": "qiskit-quantuminspire-C0W6c0G_-py3.12",
   "language": "python",
   "name": "python3"
  },
  "language_info": {
   "codemirror_mode": {
    "name": "ipython",
    "version": 3
   },
   "file_extension": ".py",
   "mimetype": "text/x-python",
   "name": "python",
   "nbconvert_exporter": "python",
   "pygments_lexer": "ipython3",
   "version": "3.12.5"
  }
 },
 "nbformat": 4,
 "nbformat_minor": 5
}
